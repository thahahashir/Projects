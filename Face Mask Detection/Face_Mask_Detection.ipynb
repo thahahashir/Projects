{
 "cells": [
  {
   "cell_type": "code",
   "execution_count": 1,
   "metadata": {},
   "outputs": [
    {
     "data": {
      "text/plain": [
       "'C:\\\\Users\\\\USER\\\\Face mask detection'"
      ]
     },
     "execution_count": 1,
     "metadata": {},
     "output_type": "execute_result"
    }
   ],
   "source": [
    "import os\n",
    "os.getcwd()"
   ]
  },
  {
   "cell_type": "code",
   "execution_count": 11,
   "metadata": {},
   "outputs": [
    {
     "name": "stdout",
     "output_type": "stream",
     "text": [
      "Found 200 images belonging to 2 classes.\n",
      "Found 200 images belonging to 2 classes.\n"
     ]
    },
    {
     "data": {
      "text/plain": [
       "{'with mask': 0, 'without mask': 1}"
      ]
     },
     "execution_count": 11,
     "metadata": {},
     "output_type": "execute_result"
    }
   ],
   "source": [
    "'''########################## IMAGE PRE-PROCESSING for TRAINING and TESTING data ##############################'''\n",
    "TrainingImagePath = 'D:\\\\Hashir\\\\IVY\\\\Python\\\\Project\\\\face mask detection\\Train'\n",
    "\n",
    "from keras.preprocessing.image import ImageDataGenerator\n",
    "\n",
    "# Defining pre-processing transformations on raw images of training data\n",
    "train_datagen = ImageDataGenerator(\n",
    "        rescale=1./255,\n",
    "        shear_range=0.1,\n",
    "        zoom_range=0.1,\n",
    "        horizontal_flip=True)\n",
    "\n",
    "# Defining pre-processing transformations on raw images of testing data\n",
    "test_datagen = ImageDataGenerator(rescale=1./255)\n",
    "\n",
    "# Generating the Training Data\n",
    "training_set = train_datagen.flow_from_directory(\n",
    "        TrainingImagePath,\n",
    "        target_size=(64, 64),\n",
    "        batch_size=32,\n",
    "        class_mode='categorical')\n",
    "\n",
    "# Generating the Testing Data\n",
    "test_set = test_datagen.flow_from_directory(\n",
    "        TrainingImagePath,\n",
    "        target_size=(64, 64),\n",
    "        batch_size=32,\n",
    "        class_mode='categorical')\n",
    "\n",
    "# Printing class labels for each face\n",
    "test_set.class_indices"
   ]
  },
  {
   "cell_type": "markdown",
   "metadata": {},
   "source": [
    "### Creating a list of faces and classes"
   ]
  },
  {
   "cell_type": "code",
   "execution_count": 12,
   "metadata": {},
   "outputs": [
    {
     "name": "stdout",
     "output_type": "stream",
     "text": [
      "Mapping masks and its Type : {0: 'with mask', 1: 'without mask'}\n",
      "\n",
      " No.of. neurons: 2\n"
     ]
    }
   ],
   "source": [
    "Trainclasses=training_set.class_indices\n",
    "\n",
    "Resultmap={}\n",
    "for facevalue, facename in zip(Trainclasses.values() , Trainclasses.keys()):\n",
    "    Resultmap[facevalue]=facename\n",
    "    \n",
    "import pickle \n",
    "with open('D:\\\\Hashir\\\\IVY\\\\Python\\\\Project\\\\face mask detection\\\\Resultmap.pkl', 'wb') as f:\n",
    "    pickle.dump(Resultmap, f, pickle.HIGHEST_PROTOCOL)\n",
    "    \n",
    "print('Mapping masks and its Type :', Resultmap)\n",
    "\n",
    "Outputneurons=len(Resultmap)\n",
    "print('\\n No.of. neurons:', Outputneurons)"
   ]
  },
  {
   "cell_type": "markdown",
   "metadata": {},
   "source": [
    "### Creating the CNN model"
   ]
  },
  {
   "cell_type": "code",
   "execution_count": 13,
   "metadata": {},
   "outputs": [],
   "source": [
    "from keras.models import Sequential\n",
    "from keras.layers import Convolution2D\n",
    "from keras.layers import MaxPool2D\n",
    "from keras.layers import Flatten\n",
    "from keras.layers import Dense\n",
    "\n",
    "classifier= Sequential()\n",
    "\n",
    "classifier.add(Convolution2D(32, kernel_size=(5,5), strides=(1,1), input_shape=(64,64,3), activation='relu'))\n",
    "classifier.add(MaxPool2D(pool_size=(2,2)))\n",
    "#adding another layer for accuracy\n",
    "classifier.add(Convolution2D(32, kernel_size=(5,5), strides=(1,1), activation='relu'))\n",
    "classifier.add(MaxPool2D(pool_size=(2,2)))\n",
    "\n",
    "classifier.add(Flatten())\n",
    "classifier.add(Dense(64, activation='relu'))\n",
    "\n",
    "classifier.add(Dense(Outputneurons, activation='softmax'))\n",
    "\n",
    "classifier.compile(loss='categorical_crossentropy', optimizer='adam', metrics=['accuracy'])\n"
   ]
  },
  {
   "cell_type": "markdown",
   "metadata": {},
   "source": [
    "### Fitting the mode"
   ]
  },
  {
   "cell_type": "code",
   "execution_count": 14,
   "metadata": {},
   "outputs": [
    {
     "name": "stdout",
     "output_type": "stream",
     "text": [
      "Epoch 1/10\n",
      "5/5 [==============================] - 1s 286ms/step - loss: 0.6626 - accuracy: 0.6324 - val_loss: 0.5720 - val_accuracy: 0.6438\n",
      "Epoch 2/10\n",
      "5/5 [==============================] - 1s 220ms/step - loss: 0.4460 - accuracy: 0.7937 - val_loss: 0.2897 - val_accuracy: 0.9125\n",
      "Epoch 3/10\n",
      "5/5 [==============================] - 1s 222ms/step - loss: 0.2940 - accuracy: 0.8938 - val_loss: 0.1807 - val_accuracy: 0.9375\n",
      "Epoch 4/10\n",
      "5/5 [==============================] - 1s 197ms/step - loss: 0.1773 - accuracy: 0.9191 - val_loss: 0.1092 - val_accuracy: 0.9500\n",
      "Epoch 5/10\n",
      "5/5 [==============================] - 1s 223ms/step - loss: 0.1183 - accuracy: 0.9412 - val_loss: 0.1204 - val_accuracy: 0.9500\n",
      "Epoch 6/10\n",
      "5/5 [==============================] - 1s 211ms/step - loss: 0.1697 - accuracy: 0.9338 - val_loss: 0.1012 - val_accuracy: 0.9625\n",
      "Epoch 7/10\n",
      "5/5 [==============================] - 1s 216ms/step - loss: 0.0667 - accuracy: 0.9750 - val_loss: 0.1091 - val_accuracy: 0.9500\n",
      "Epoch 8/10\n",
      "5/5 [==============================] - 1s 214ms/step - loss: 0.0786 - accuracy: 0.9625 - val_loss: 0.0673 - val_accuracy: 0.9688\n",
      "Epoch 9/10\n",
      "5/5 [==============================] - 1s 196ms/step - loss: 0.0876 - accuracy: 0.9632 - val_loss: 0.0792 - val_accuracy: 0.9875\n",
      "Epoch 10/10\n",
      "5/5 [==============================] - 1s 246ms/step - loss: 0.1178 - accuracy: 0.9688 - val_loss: 0.0784 - val_accuracy: 0.9750\n",
      "############### Total Time Taken:  0 Minutes #############\n"
     ]
    }
   ],
   "source": [
    "import time\n",
    "# Measuring the time taken by the model to train\n",
    "StartTime=time.time()\n",
    "\n",
    "# Starting the model training\n",
    "classifier.fit_generator(\n",
    "                    training_set,\n",
    "                    steps_per_epoch=5,\n",
    "                    epochs=10,\n",
    "                    validation_data=test_set,\n",
    "                    validation_steps=5)\n",
    "\n",
    "EndTime=time.time()\n",
    "print(\"############### Total Time Taken: \", round((EndTime-StartTime)/60), 'Minutes #############')"
   ]
  },
  {
   "cell_type": "markdown",
   "metadata": {},
   "source": [
    "### Saving the model"
   ]
  },
  {
   "cell_type": "code",
   "execution_count": 15,
   "metadata": {},
   "outputs": [
    {
     "name": "stdout",
     "output_type": "stream",
     "text": [
      "INFO:tensorflow:Assets written to: D:\\Hashir\\IVY\\Python\\Project\\face mask detection\\classifier.pkl\\assets\n"
     ]
    }
   ],
   "source": [
    "## Saving the model\n",
    "classifier.save('D:\\\\Hashir\\\\IVY\\\\Python\\\\Project\\\\face mask detection\\\\classifier.pkl')"
   ]
  },
  {
   "cell_type": "markdown",
   "metadata": {},
   "source": [
    "### Testing the model on a different face"
   ]
  },
  {
   "cell_type": "code",
   "execution_count": 20,
   "metadata": {},
   "outputs": [
    {
     "name": "stdout",
     "output_type": "stream",
     "text": [
      "########################################\n",
      "Prediction is:  with mask\n"
     ]
    }
   ],
   "source": [
    "# with_mask\n",
    "\n",
    "import numpy as np\n",
    "from keras.preprocessing import image\n",
    "\n",
    "testImage=\"D:\\\\Hashir\\\\IVY\\\\Python\\\\Project\\\\face mask detection\\\\Test\\\\with mask\\\\123-with-mask.jpg\"\n",
    "test_image=image.load_img(testImage,target_size=(64, 64))\n",
    "test_image=image.img_to_array(test_image)\n",
    "\n",
    "test_image=np.expand_dims(test_image,axis=0)\n",
    "\n",
    "result=classifier.predict(test_image,verbose=0)\n",
    "#print(training_set.class_indices)\n",
    "\n",
    "print('####'*10)\n",
    "print('Prediction is: ',Resultmap[np.argmax(result)])"
   ]
  },
  {
   "cell_type": "code",
   "execution_count": 21,
   "metadata": {},
   "outputs": [
    {
     "name": "stdout",
     "output_type": "stream",
     "text": [
      "########################################\n",
      "Prediction is:  without mask\n"
     ]
    }
   ],
   "source": [
    "# without_mask\n",
    "\n",
    "import numpy as np\n",
    "from keras.preprocessing import image\n",
    "\n",
    "testImage=\"D:\\\\Hashir\\\\IVY\\\\Python\\\\Project\\\\face mask detection\\\\Test\\\\without mask\\\\augmented_image_137.jpg\"\n",
    "test_image=image.load_img(testImage,target_size=(64, 64))\n",
    "test_image=image.img_to_array(test_image)\n",
    "\n",
    "test_image=np.expand_dims(test_image,axis=0)\n",
    "\n",
    "result=classifier.predict(test_image,verbose=0)\n",
    "#print(training_set.class_indices)\n",
    "\n",
    "print('####'*10)\n",
    "print('Prediction is: ',Resultmap[np.argmax(result)])"
   ]
  }
 ],
 "metadata": {
  "kernelspec": {
   "display_name": "Python 3",
   "language": "python",
   "name": "python3"
  },
  "language_info": {
   "codemirror_mode": {
    "name": "ipython",
    "version": 3
   },
   "file_extension": ".py",
   "mimetype": "text/x-python",
   "name": "python",
   "nbconvert_exporter": "python",
   "pygments_lexer": "ipython3",
   "version": "3.7.6"
  }
 },
 "nbformat": 4,
 "nbformat_minor": 4
}
